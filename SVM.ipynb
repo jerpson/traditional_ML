{
 "cells": [
  {
   "cell_type": "code",
   "execution_count": 3,
   "metadata": {
    "collapsed": false
   },
   "outputs": [],
   "source": [
    "import numpy as np"
   ]
  },
  {
   "cell_type": "code",
   "execution_count": 4,
   "metadata": {
    "collapsed": true
   },
   "outputs": [],
   "source": [
    "def loadDataSet(fileName):\n",
    "    dataMat = [] ; labelMat = []\n",
    "    fr = open(fileName)\n",
    "    for line in fr.readlines():\n",
    "        lineArr = line.strip().split('\\t')\n",
    "        dataMat.append([float(lineArr[0]),float(lineArr[1])])\n",
    "        labelMat.append(float(lineArr[2]))\n",
    "    return dataMat,labelMat #返回的数据和标签是list"
   ]
  },
  {
   "cell_type": "code",
   "execution_count": 8,
   "metadata": {
    "collapsed": true
   },
   "outputs": [],
   "source": [
    "def selectJrand(i,m):\n",
    "    j = i\n",
    "    while (j == i):\n",
    "        j = int(np.random.uniform(0,m))\n",
    "        #np.random.uniform(low,high,size) 从一个均匀分布[low,high)中随机采样\n",
    "    return j\n",
    "# A value is randomly chosen and return as long as it's not equal to the input i"
   ]
  },
  {
   "cell_type": "code",
   "execution_count": 9,
   "metadata": {
    "collapsed": false
   },
   "outputs": [],
   "source": [
    "def clipAlpha(aj,H,L):\n",
    "    if aj > H:\n",
    "        aj = H\n",
    "    if L > aj:\n",
    "        aj = L\n",
    "    return aj"
   ]
  },
  {
   "cell_type": "code",
   "execution_count": 11,
   "metadata": {
    "collapsed": false
   },
   "outputs": [],
   "source": [
    "dataArr,labelArr = loadDataSet('testSet.txt')"
   ]
  },
  {
   "cell_type": "code",
   "execution_count": 30,
   "metadata": {
    "collapsed": false,
    "scrolled": true
   },
   "outputs": [],
   "source": [
    "def smoSimple(dataMatIn,classLabels,C,toler,maxIter):\n",
    "    dataMatrix = np.mat(dataMatIn)\n",
    "    labelMat = np.mat(classLabels).transpose()\n",
    "    b = 0\n",
    "    m,n = dataMatrix.shape\n",
    "    alphas = np.mat(np.zeros((m,1)))\n",
    "    iters = 0\n",
    "    while (iters < maxIter):\n",
    "        alphaPairsChanged = 0\n",
    "        for i in range(m):\n",
    "            fXi = float(np.multiply(alphas,labelMat).T*(dataMatrix*dataMatrix[i,:].T)) + b  \n",
    "            #f(x)=E a(i)*y(i)<xi,x> + b\n",
    "            #np.multiply() 对应元素相乘\n",
    "            Ei = fXi - float(labelMat[i]) #误差\n",
    "            if ((labelMat[i]*Ei < -toler) and (alphas[i] < C)) or ((labelMat[i]*Ei > toler) and (alphas[i] > 0)):\n",
    "                j = selectJrand(i,m) #randomly select second alpha\n",
    "                fXj = float(np.multiply(alphas,labelMat).T * (dataMatrix*dataMatrix[j,:].T)) + b\n",
    "                Ej = fXj - float(labelMat[j])\n",
    "                alphaIold = alphas[i].copy()\n",
    "                alphaJold = alphas[j].copy()\n",
    "                if (labelMat[i] != labelMat[j]):\n",
    "                    L = max(0,alphas[j]-alphas[i])\n",
    "                    H = min(C,C+alphas[j]-alphas[i])\n",
    "                else:\n",
    "                    L = max(0,alphas[j]+alphas[i]-C)\n",
    "                    H = min(C,alphas[j]+alphas[i])\n",
    "                if L==H: \n",
    "                    print ('L==H')\n",
    "                    continue\n",
    "                eta = 2.0*dataMatrix[i,:]*dataMatrix[j,:].T - dataMatrix[i,:]*dataMatrix[i,:].T - dataMatrix[j,:]*dataMatrix[j,:].T\n",
    "                # calculate eta(the similarity of sample i and j) \n",
    "                if eta >= 0:\n",
    "                    print ('eta>=0')\n",
    "                    continue\n",
    "                # update alpha[j]\n",
    "                alphas[j] -= labelMat[j]*(Ei - Ej)/eta\n",
    "                alphas[j] = clipAlpha(alphas[j],H,L)\n",
    "                if (np.abs(alphas[j] - alphaJold) < 0.00001):\n",
    "                    print ('J not moving enough')\n",
    "                    continue\n",
    "                alphas[i] += labelMat[j]*labelMat[i]*(alphaJold - alphas[j])\n",
    "                b1 = b - Ei - labelMat[i]*(alphas[i]-alphaIold)*dataMatrix[i,:]*dataMatrix[i,:].T - \\\n",
    "                    labelMat[j]*(alphas[j]-alphaJold)*dataMatrix[i,:]*dataMatrix[j,:].T\n",
    "                b2 = b - Ej - labelMat[i]*(alphas[i]-alphaIold)*dataMatrix[i,:]*dataMatrix[i,:].T - \\\n",
    "                    labelMat[j]*(alphas[j]-alphaJold)*dataMatrix[i,:]*dataMatrix[j,:].T\n",
    "                if (0<alphas[i]) and (C>alphas[i]):\n",
    "                    b = b1\n",
    "                elif (0 < alphas[j]) and (C > alphas[j]):\n",
    "                    b = b2\n",
    "                else:\n",
    "                    b = (b1+b2)/2.0\n",
    "                alphaPairsChanged += 1\n",
    "                print ('iter: %d i:%d,pair changed %d' %(iters,i,alphaPairsChanged))\n",
    "            if (alphaPairsChanged == 0): \n",
    "                iters += 1\n",
    "            else:\n",
    "                iters = 0\n",
    "            print('iteration number: %d' % iters)\n",
    "        return b,alphas      "
   ]
  },
  {
   "cell_type": "code",
   "execution_count": 33,
   "metadata": {
    "collapsed": false
   },
   "outputs": [
    {
     "name": "stdout",
     "output_type": "stream",
     "text": [
      "iter: 0 i:0,pair changed 1\n",
      "iteration number: 0\n",
      "iteration number: 0\n",
      "iteration number: 0\n",
      "iteration number: 0\n",
      "iteration number: 0\n",
      "iteration number: 0\n",
      "iteration number: 0\n",
      "iteration number: 0\n",
      "L==H\n",
      "iteration number: 0\n",
      "J not moving enough\n",
      "iteration number: 0\n",
      "iteration number: 0\n",
      "iteration number: 0\n",
      "iteration number: 0\n",
      "iteration number: 0\n",
      "iteration number: 0\n",
      "J not moving enough\n",
      "iteration number: 0\n",
      "iteration number: 0\n",
      "iteration number: 0\n",
      "iteration number: 0\n",
      "iteration number: 0\n",
      "L==H\n",
      "iteration number: 0\n",
      "iteration number: 0\n",
      "iteration number: 0\n",
      "iteration number: 0\n",
      "iteration number: 0\n",
      "L==H\n",
      "J not moving enough\n",
      "iteration number: 0\n",
      "iteration number: 0\n",
      "iteration number: 0\n",
      "iteration number: 0\n",
      "iteration number: 0\n",
      "iteration number: 0\n",
      "iteration number: 0\n",
      "iteration number: 0\n",
      "iteration number: 0\n",
      "iteration number: 0\n",
      "iteration number: 0\n",
      "iteration number: 0\n",
      "iteration number: 0\n",
      "iteration number: 0\n",
      "iteration number: 0\n",
      "L==H\n",
      "iteration number: 0\n",
      "iteration number: 0\n",
      "iteration number: 0\n",
      "iteration number: 0\n",
      "iteration number: 0\n",
      "iter: 0 i:52,pair changed 2\n",
      "iteration number: 0\n",
      "iteration number: 0\n",
      "L==H\n",
      "L==H\n",
      "iteration number: 0\n",
      "L==H\n",
      "iteration number: 0\n",
      "iteration number: 0\n",
      "iteration number: 0\n",
      "iteration number: 0\n",
      "J not moving enough\n",
      "iteration number: 0\n",
      "iteration number: 0\n",
      "iteration number: 0\n",
      "iteration number: 0\n",
      "J not moving enough\n",
      "iteration number: 0\n",
      "J not moving enough\n",
      "iteration number: 0\n",
      "iteration number: 0\n",
      "iteration number: 0\n",
      "iteration number: 0\n",
      "iteration number: 0\n",
      "iteration number: 0\n",
      "iteration number: 0\n",
      "L==H\n",
      "iteration number: 0\n",
      "J not moving enough\n",
      "iteration number: 0\n",
      "iteration number: 0\n",
      "J not moving enough\n",
      "iteration number: 0\n",
      "iteration number: 0\n",
      "iteration number: 0\n",
      "iteration number: 0\n",
      "iteration number: 0\n",
      "iteration number: 0\n",
      "iteration number: 0\n",
      "iteration number: 0\n",
      "iteration number: 0\n",
      "iteration number: 0\n",
      "iteration number: 0\n",
      "iteration number: 0\n",
      "iteration number: 0\n",
      "iteration number: 0\n",
      "iteration number: 0\n",
      "iteration number: 0\n",
      "iteration number: 0\n"
     ]
    }
   ],
   "source": [
    "b,alphas = smoSimple(dataArr,labelArr,0.6,0.001,40)"
   ]
  },
  {
   "cell_type": "code",
   "execution_count": 34,
   "metadata": {
    "collapsed": false
   },
   "outputs": [
    {
     "data": {
      "text/plain": [
       "matrix([[-2.6534237]])"
      ]
     },
     "execution_count": 34,
     "metadata": {},
     "output_type": "execute_result"
    }
   ],
   "source": [
    "b"
   ]
  },
  {
   "cell_type": "code",
   "execution_count": 35,
   "metadata": {
    "collapsed": false
   },
   "outputs": [
    {
     "data": {
      "text/plain": [
       "matrix([[ 0.11766947,  0.11766947,  0.00404363,  0.00404363]])"
      ]
     },
     "execution_count": 35,
     "metadata": {},
     "output_type": "execute_result"
    }
   ],
   "source": [
    "alphas[alphas>0]"
   ]
  },
  {
   "cell_type": "code",
   "execution_count": 36,
   "metadata": {
    "collapsed": false
   },
   "outputs": [
    {
     "data": {
      "text/plain": [
       "array([[ 0.],\n",
       "       [ 0.],\n",
       "       [ 0.],\n",
       "       [ 0.],\n",
       "       [ 0.]])"
      ]
     },
     "execution_count": 36,
     "metadata": {},
     "output_type": "execute_result"
    }
   ],
   "source": [
    "np.zeros((5,1))"
   ]
  },
  {
   "cell_type": "code",
   "execution_count": null,
   "metadata": {
    "collapsed": true
   },
   "outputs": [],
   "source": []
  }
 ],
 "metadata": {
  "kernelspec": {
   "display_name": "Python 3",
   "language": "python",
   "name": "python3"
  },
  "language_info": {
   "codemirror_mode": {
    "name": "ipython",
    "version": 3
   },
   "file_extension": ".py",
   "mimetype": "text/x-python",
   "name": "python",
   "nbconvert_exporter": "python",
   "pygments_lexer": "ipython3",
   "version": "3.6.0"
  }
 },
 "nbformat": 4,
 "nbformat_minor": 2
}
