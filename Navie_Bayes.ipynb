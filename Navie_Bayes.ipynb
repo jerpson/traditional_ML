{
 "cells": [
  {
   "cell_type": "markdown",
   "metadata": {},
   "source": [
    "#### 几个基本概念\n",
    "1.词频term frequency,TF : 某一给定的词语在该文档中出现的频率。\n",
    "2.逆向文件频率 inverse document frequency,IDF : 一个词语普遍性的度量。某一特定词语的IDF可以由总文件数目除以包含该词语的文件数目，再取对数。\n",
    "3.TF-IDF:TF与IDF的乘积。高词语频率乘以低文件频率可产生高权重TF-IDF。TF-IDF倾向过滤掉常见的词语，保持重要的词语。"
   ]
  },
  {
   "cell_type": "code",
   "execution_count": 1,
   "metadata": {
    "collapsed": true
   },
   "outputs": [],
   "source": [
    "from sklearn import datasets"
   ]
  },
  {
   "cell_type": "code",
   "execution_count": null,
   "metadata": {
    "collapsed": true
   },
   "outputs": [],
   "source": []
  }
 ],
 "metadata": {
  "kernelspec": {
   "display_name": "Python 3",
   "language": "python",
   "name": "python3"
  },
  "language_info": {
   "codemirror_mode": {
    "name": "ipython",
    "version": 3
   },
   "file_extension": ".py",
   "mimetype": "text/x-python",
   "name": "python",
   "nbconvert_exporter": "python",
   "pygments_lexer": "ipython3",
   "version": "3.6.0"
  }
 },
 "nbformat": 4,
 "nbformat_minor": 2
}
