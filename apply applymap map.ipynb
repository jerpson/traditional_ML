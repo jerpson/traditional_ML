{
 "cells": [
  {
   "cell_type": "code",
   "execution_count": 116,
   "metadata": {
    "collapsed": true
   },
   "outputs": [],
   "source": [
    "import pandas as pd\n",
    "import numpy as np"
   ]
  },
  {
   "cell_type": "code",
   "execution_count": null,
   "metadata": {
    "collapsed": true
   },
   "outputs": [],
   "source": [
    "frame = pd.DataFrame(np.random.randn(4,3),columns=['a','b','c'])"
   ]
  },
  {
   "cell_type": "markdown",
   "metadata": {},
   "source": [
    "apply works on a row/column basis of a DataFrame, applymap works element-wise on a DataFrame, and map works element-wise on a Series"
   ]
  },
  {
   "cell_type": "code",
   "execution_count": 119,
   "metadata": {
    "collapsed": false
   },
   "outputs": [],
   "source": [
    "frame[['d','e']] = frame[['b','c']].apply(lambda x: x/frame['a'])"
   ]
  },
  {
   "cell_type": "code",
   "execution_count": 120,
   "metadata": {
    "collapsed": false
   },
   "outputs": [
    {
     "data": {
      "text/html": [
       "<div>\n",
       "<style>\n",
       "    .dataframe thead tr:only-child th {\n",
       "        text-align: right;\n",
       "    }\n",
       "\n",
       "    .dataframe thead th {\n",
       "        text-align: left;\n",
       "    }\n",
       "\n",
       "    .dataframe tbody tr th {\n",
       "        vertical-align: top;\n",
       "    }\n",
       "</style>\n",
       "<table border=\"1\" class=\"dataframe\">\n",
       "  <thead>\n",
       "    <tr style=\"text-align: right;\">\n",
       "      <th></th>\n",
       "      <th>a</th>\n",
       "      <th>b</th>\n",
       "      <th>c</th>\n",
       "      <th>d</th>\n",
       "      <th>e</th>\n",
       "    </tr>\n",
       "  </thead>\n",
       "  <tbody>\n",
       "    <tr>\n",
       "      <th>0</th>\n",
       "      <td>-0.874783</td>\n",
       "      <td>-2.441627</td>\n",
       "      <td>-0.369057</td>\n",
       "      <td>2.791122</td>\n",
       "      <td>0.421884</td>\n",
       "    </tr>\n",
       "    <tr>\n",
       "      <th>1</th>\n",
       "      <td>-0.857281</td>\n",
       "      <td>-0.585421</td>\n",
       "      <td>1.246288</td>\n",
       "      <td>0.682881</td>\n",
       "      <td>-1.453768</td>\n",
       "    </tr>\n",
       "    <tr>\n",
       "      <th>2</th>\n",
       "      <td>0.127287</td>\n",
       "      <td>0.327295</td>\n",
       "      <td>-0.416789</td>\n",
       "      <td>2.571317</td>\n",
       "      <td>-3.274403</td>\n",
       "    </tr>\n",
       "    <tr>\n",
       "      <th>3</th>\n",
       "      <td>-0.886241</td>\n",
       "      <td>-0.448607</td>\n",
       "      <td>-0.227607</td>\n",
       "      <td>0.506191</td>\n",
       "      <td>0.256823</td>\n",
       "    </tr>\n",
       "  </tbody>\n",
       "</table>\n",
       "</div>"
      ],
      "text/plain": [
       "          a         b         c         d         e\n",
       "0 -0.874783 -2.441627 -0.369057  2.791122  0.421884\n",
       "1 -0.857281 -0.585421  1.246288  0.682881 -1.453768\n",
       "2  0.127287  0.327295 -0.416789  2.571317 -3.274403\n",
       "3 -0.886241 -0.448607 -0.227607  0.506191  0.256823"
      ]
     },
     "execution_count": 120,
     "metadata": {},
     "output_type": "execute_result"
    }
   ],
   "source": [
    "frame"
   ]
  },
  {
   "cell_type": "code",
   "execution_count": 126,
   "metadata": {
    "collapsed": false
   },
   "outputs": [
    {
     "data": {
      "text/html": [
       "<div>\n",
       "<style>\n",
       "    .dataframe thead tr:only-child th {\n",
       "        text-align: right;\n",
       "    }\n",
       "\n",
       "    .dataframe thead th {\n",
       "        text-align: left;\n",
       "    }\n",
       "\n",
       "    .dataframe tbody tr th {\n",
       "        vertical-align: top;\n",
       "    }\n",
       "</style>\n",
       "<table border=\"1\" class=\"dataframe\">\n",
       "  <thead>\n",
       "    <tr style=\"text-align: right;\">\n",
       "      <th></th>\n",
       "      <th>b</th>\n",
       "      <th>c</th>\n",
       "    </tr>\n",
       "  </thead>\n",
       "  <tbody>\n",
       "    <tr>\n",
       "      <th>0</th>\n",
       "      <td>0     2.791122\n",
       "1     2.848105\n",
       "2   -19.182067\n",
       "3...</td>\n",
       "      <td>0    0.421884\n",
       "1    0.430498\n",
       "2   -2.899413\n",
       "3   ...</td>\n",
       "    </tr>\n",
       "    <tr>\n",
       "      <th>1</th>\n",
       "      <td>0    0.669218\n",
       "1    0.682881\n",
       "2   -4.599223\n",
       "3   ...</td>\n",
       "      <td>0   -1.424682\n",
       "1   -1.453768\n",
       "2    9.791171\n",
       "3   ...</td>\n",
       "    </tr>\n",
       "    <tr>\n",
       "      <th>2</th>\n",
       "      <td>0   -0.374144\n",
       "1   -0.381783\n",
       "2    2.571317\n",
       "3   ...</td>\n",
       "      <td>0    0.476448\n",
       "1    0.486175\n",
       "2   -3.274403\n",
       "3   ...</td>\n",
       "    </tr>\n",
       "    <tr>\n",
       "      <th>3</th>\n",
       "      <td>0    0.512820\n",
       "1    0.523290\n",
       "2   -3.524373\n",
       "3   ...</td>\n",
       "      <td>0    0.260186\n",
       "1    0.265498\n",
       "2   -1.788139\n",
       "3   ...</td>\n",
       "    </tr>\n",
       "  </tbody>\n",
       "</table>\n",
       "</div>"
      ],
      "text/plain": [
       "                                                   b  \\\n",
       "0  0     2.791122\n",
       "1     2.848105\n",
       "2   -19.182067\n",
       "3...   \n",
       "1  0    0.669218\n",
       "1    0.682881\n",
       "2   -4.599223\n",
       "3   ...   \n",
       "2  0   -0.374144\n",
       "1   -0.381783\n",
       "2    2.571317\n",
       "3   ...   \n",
       "3  0    0.512820\n",
       "1    0.523290\n",
       "2   -3.524373\n",
       "3   ...   \n",
       "\n",
       "                                                   c  \n",
       "0  0    0.421884\n",
       "1    0.430498\n",
       "2   -2.899413\n",
       "3   ...  \n",
       "1  0   -1.424682\n",
       "1   -1.453768\n",
       "2    9.791171\n",
       "3   ...  \n",
       "2  0    0.476448\n",
       "1    0.486175\n",
       "2   -3.274403\n",
       "3   ...  \n",
       "3  0    0.260186\n",
       "1    0.265498\n",
       "2   -1.788139\n",
       "3   ...  "
      ]
     },
     "execution_count": 126,
     "metadata": {},
     "output_type": "execute_result"
    }
   ],
   "source": [
    "frame[['b','c']].applymap(lambda x: x/frame['a'])"
   ]
  },
  {
   "cell_type": "code",
   "execution_count": 122,
   "metadata": {
    "collapsed": false
   },
   "outputs": [
    {
     "data": {
      "text/html": [
       "<div>\n",
       "<style>\n",
       "    .dataframe thead tr:only-child th {\n",
       "        text-align: right;\n",
       "    }\n",
       "\n",
       "    .dataframe thead th {\n",
       "        text-align: left;\n",
       "    }\n",
       "\n",
       "    .dataframe tbody tr th {\n",
       "        vertical-align: top;\n",
       "    }\n",
       "</style>\n",
       "<table border=\"1\" class=\"dataframe\">\n",
       "  <thead>\n",
       "    <tr style=\"text-align: right;\">\n",
       "      <th></th>\n",
       "      <th>b</th>\n",
       "      <th>c</th>\n",
       "    </tr>\n",
       "  </thead>\n",
       "  <tbody>\n",
       "    <tr>\n",
       "      <th>0</th>\n",
       "      <td>-1.220813</td>\n",
       "      <td>-0.184529</td>\n",
       "    </tr>\n",
       "    <tr>\n",
       "      <th>1</th>\n",
       "      <td>-0.292710</td>\n",
       "      <td>0.623144</td>\n",
       "    </tr>\n",
       "    <tr>\n",
       "      <th>2</th>\n",
       "      <td>0.163648</td>\n",
       "      <td>-0.208394</td>\n",
       "    </tr>\n",
       "    <tr>\n",
       "      <th>3</th>\n",
       "      <td>-0.224303</td>\n",
       "      <td>-0.113803</td>\n",
       "    </tr>\n",
       "  </tbody>\n",
       "</table>\n",
       "</div>"
      ],
      "text/plain": [
       "          b         c\n",
       "0 -1.220813 -0.184529\n",
       "1 -0.292710  0.623144\n",
       "2  0.163648 -0.208394\n",
       "3 -0.224303 -0.113803"
      ]
     },
     "execution_count": 122,
     "metadata": {},
     "output_type": "execute_result"
    }
   ],
   "source": [
    "frame[['b','c']].applymap(lambda x: x/2)"
   ]
  },
  {
   "cell_type": "code",
   "execution_count": 124,
   "metadata": {
    "collapsed": false
   },
   "outputs": [
    {
     "data": {
      "text/plain": [
       "0   -1.220813\n",
       "1   -0.292710\n",
       "2    0.163648\n",
       "3   -0.224303\n",
       "Name: b, dtype: float64"
      ]
     },
     "execution_count": 124,
     "metadata": {},
     "output_type": "execute_result"
    }
   ],
   "source": [
    "frame['b'].map(lambda x: x/2)"
   ]
  },
  {
   "cell_type": "code",
   "execution_count": null,
   "metadata": {
    "collapsed": true
   },
   "outputs": [],
   "source": []
  }
 ],
 "metadata": {
  "kernelspec": {
   "display_name": "Python 3",
   "language": "python",
   "name": "python3"
  },
  "language_info": {
   "codemirror_mode": {
    "name": "ipython",
    "version": 3
   },
   "file_extension": ".py",
   "mimetype": "text/x-python",
   "name": "python",
   "nbconvert_exporter": "python",
   "pygments_lexer": "ipython3",
   "version": "3.6.0"
  }
 },
 "nbformat": 4,
 "nbformat_minor": 2
}
